{
 "cells": [
  {
   "cell_type": "markdown",
   "metadata": {
    "id": "C1HnqMyRCsPp"
   },
   "source": [
    "# **Pendahuluan**"
   ]
  },
  {
   "cell_type": "markdown",
   "metadata": {
    "id": "eDsWh2M-En1x"
   },
   "source": [
    "**Python** adalah bahasa pemrograman interpretatif multiguna yang digunakan untuk membersihkan data, membuat visualisasi, dan membangun model oleh para *data scientist* saat ini. Python dikenal sebagai bahasa pemrograman yang mudah dipelajari, karena struktur sintaknya rapi dan mudah dipahami."
   ]
  },
  {
   "cell_type": "markdown",
   "metadata": {
    "id": "6i8VOx75C-QM"
   },
   "source": [
    "**Google Colab** merupakan salah satu produk dari Google yang dapat menunjang seluruh keperluan *data science* dan *machine learning* perusahaan di mana penggunanya dapat menjalankan kode **Python** tanpa perlu melakukan proses instalasi dan setup lainnya. Semua keperluan *setting* dan *adjustment* akan diserahkan ke *cloud*."
   ]
  },
  {
   "cell_type": "markdown",
   "metadata": {},
   "source": [
    "**Markdown** adalah sebuah tools untuk melakukan konversi text-to-HTML yang bisa digunakan ketika membuat konten web. Dengan menggunakan Markdown kita dapat menulis konten HTML dengan format yang mudah dibaca dan mudah pula untuk ditulis (easy-to-read dan easy-to write). Kelebihan menggunakan Markdown adalah format penulisannya yang sangat manusiawi sehingga sangat mudah sekali untuk dibaca dan ditulis. Dengannya pula kita tidak perlu lagi dipusingkan dengan styling ketika menulis konten dan bisa fokus pada konten."
   ]
  },
  {
   "cell_type": "markdown",
   "metadata": {
    "id": "3NMBJN2_Efb6"
   },
   "source": [
    "# **Penggunaan**"
   ]
  },
  {
   "cell_type": "markdown",
   "metadata": {},
   "source": [
    "- Untuk menggunakan Google Colab kita harus memiliki akun Google lalu kemudian akses fitur Colaboratory. \n",
    "\n",
    "- Jika tidak memiliki akun Google, sebagian besar dari fitur Colaboratory yang perlu kita akses tidak akan berfungsi.\n",
    "\n",
    "- Karena Google Colaboratory bekerja dalam Google Drive, kita harus menentukan folder yang akan digunakan. "
   ]
  },
  {
   "cell_type": "markdown",
   "metadata": {
    "id": "tmFhDfvdEhgB"
   },
   "source": [
    "**Mengakses Google Colab Secara Langsung**\n",
    "\n",
    "Google Colab dapat diakses dengan alamat situs web https://colab.research.google.com/\n",
    "\n",
    "Setelah mengunjungi situs web tersebut akan muncul *popup*, kemudian pilih \"New notebook\" untuk membuat sebuah *file* baru seperti gambar di bawah"
   ]
  },
  {
   "cell_type": "markdown",
   "metadata": {},
   "source": [
    "![Membuat notebook secara langsung](./images/google-colab.png)"
   ]
  },
  {
   "cell_type": "markdown",
   "metadata": {},
   "source": [
    "Notebook baru berhasil dibuat"
   ]
  },
  {
   "cell_type": "markdown",
   "metadata": {},
   "source": [
    "![File baru terbuat](./images/notebook-new-file.png)"
   ]
  },
  {
   "cell_type": "markdown",
   "metadata": {
    "id": "h5rqxTdmIDH0"
   },
   "source": [
    "**Mengakses Google Colab melalui Google Drive**\n",
    "\n",
    "- Mengakses Google Drive dengan alamat https://drive.google.com/\n",
    "- Membuat Folder Baru\n",
    "\n",
    "Kita harus membuat file Notebook baru terlebih dahulu dengan cara klik kanan di dalam folder yang baru saja kita buat, pilih More dan lalu klik opsi Colaboratory."
   ]
  },
  {
   "cell_type": "markdown",
   "metadata": {},
   "source": [
    "![Membuat notebook melalui google drive](./images/gdrive-notebook.png)"
   ]
  },
  {
   "cell_type": "markdown",
   "metadata": {},
   "source": [
    "Notebook baru berhasil dibuat"
   ]
  },
  {
   "cell_type": "markdown",
   "metadata": {},
   "source": [
    "![File baru terbuat](./images/notebook-new-file.png)"
   ]
  },
  {
   "cell_type": "markdown",
   "metadata": {
    "id": "1HnaHbm5FoUf"
   },
   "source": [
    "# **Dokumentasi Mendalam**"
   ]
  },
  {
   "cell_type": "markdown",
   "metadata": {
    "id": "68Eb7UVeFrP9"
   },
   "source": [
    "- [Python](https://www.python.org/doc/)\n",
    "- [Google Colab](https://colab.research.google.com/)\n",
    "- [Markdown](https://www.markdownguide.org/basic-syntax/)"
   ]
  },
  {
   "cell_type": "markdown",
   "metadata": {
    "id": "_Bi1wQSLDJw1"
   },
   "source": [
    "# **Referensi**"
   ]
  },
  {
   "cell_type": "markdown",
   "metadata": {
    "id": "5vMXxuwQDL67"
   },
   "source": [
    "- [Mengenal Google Colab: Mulai dari Definisi, Cara Menggunakan, hingga Manfaatnya](https://glints.com/id/lowongan/google-colab-adalah/)\n",
    "- [Google Colab - What is Google Colab?](https://www.tutorialspoint.com/google_colab/what_is_google_colab.htm)\n",
    "- [APA ITU PYTHON?](https://algorit.ma/blog/belajar-apa-itu-python/)\n",
    "- [Belajar Pemrograman Python: Pengenalan Dasar Python dan Persiapan Awal](https://www.petanikode.com/python-linux/)\n",
    "- [Kenalan Dengan Markdown](https://www.codepolitan.com/kenalan-dengan-markdown/)\n"
   ]
  }
 ],
 "metadata": {
  "colab": {
   "name": "Pengenalan Google Colab.ipynb",
   "provenance": []
  },
  "kernelspec": {
   "display_name": "Python 3 (ipykernel)",
   "language": "python",
   "name": "python3"
  },
  "language_info": {
   "codemirror_mode": {
    "name": "ipython",
    "version": 3
   },
   "file_extension": ".py",
   "mimetype": "text/x-python",
   "name": "python",
   "nbconvert_exporter": "python",
   "pygments_lexer": "ipython3",
   "version": "3.8.10"
  }
 },
 "nbformat": 4,
 "nbformat_minor": 1
}
