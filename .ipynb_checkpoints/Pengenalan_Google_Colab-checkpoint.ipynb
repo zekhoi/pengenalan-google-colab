{
 "cells": [
  {
   "cell_type": "markdown",
   "metadata": {
    "id": "C1HnqMyRCsPp"
   },
   "source": [
    "# **Pendahuluan**"
   ]
  },
  {
   "cell_type": "markdown",
   "metadata": {
    "id": "eDsWh2M-En1x"
   },
   "source": [
    "**Python** adalah bahasa pemrograman interpretatif multiguna yang digunakan untuk membersihkan data, membuat visualisasi, dan membangun model oleh para *data scientist* saat ini. Python dikenal sebagai bahasa pemrograman yang mudah dipelajari, karena struktur sintaknya rapi dan mudah dipahami."
   ]
  },
  {
   "cell_type": "markdown",
   "metadata": {
    "id": "6i8VOx75C-QM"
   },
   "source": [
    "**Google Colab** merupakan salah satu produk dari Google yang dapat menunjang seluruh keperluan *data science* dan *machine learning* perusahaan di mana penggunanya dapat menjalankan kode **Python** tanpa perlu melakukan proses instalasi dan setup lainnya. Semua keperluan *setting* dan *adjustment* akan diserahkan ke *cloud*."
   ]
  },
  {
   "cell_type": "markdown",
   "metadata": {},
   "source": [
    "**Markdown** "
   ]
  },
  {
   "cell_type": "markdown",
   "metadata": {
    "id": "3NMBJN2_Efb6"
   },
   "source": [
    "# **Penggunaan**"
   ]
  },
  {
   "cell_type": "markdown",
   "metadata": {
    "id": "tmFhDfvdEhgB"
   },
   "source": [
    "**Mengakses Google Colab Secara Langsung**\n",
    "\n",
    "Google Colab dapat diakses dengan alamat *url* https://colab.research.google.com/\n",
    "\n"
   ]
  },
  {
   "cell_type": "markdown",
   "metadata": {
    "id": "h5rqxTdmIDH0"
   },
   "source": [
    "**Mengakses Google Colab melalui Google Drive**\n",
    "\n",
    "![Membuat notebook melal](/assets/images/san-juan-mountains.jpg \"San Juan Mountains\")"
   ]
  },
  {
   "cell_type": "markdown",
   "metadata": {
    "id": "1HnaHbm5FoUf"
   },
   "source": [
    "# **Dokumentasi Mendalam**"
   ]
  },
  {
   "cell_type": "markdown",
   "metadata": {
    "id": "68Eb7UVeFrP9"
   },
   "source": [
    "- [Google Colab](https://colab.research.google.com/)\n",
    "- [Python](https://www.python.org/doc/)\n",
    "- [Markdown](https://www.markdownguide.org/basic-syntax/)"
   ]
  },
  {
   "cell_type": "markdown",
   "metadata": {
    "id": "_Bi1wQSLDJw1"
   },
   "source": [
    "# **Referensi**"
   ]
  },
  {
   "cell_type": "markdown",
   "metadata": {
    "id": "5vMXxuwQDL67"
   },
   "source": [
    "- [Mengenal Google Colab: Mulai dari Definisi, Cara Menggunakan, hingga Manfaatnya](https://glints.com/id/lowongan/google-colab-adalah/)\n",
    "- [Google Colab - What is Google Colab?](https://www.tutorialspoint.com/google_colab/what_is_google_colab.htm)\n",
    "- [APA ITU PYTHON?](https://algorit.ma/blog/belajar-apa-itu-python/)\n",
    "- [Belajar Pemrograman Python: Pengenalan Dasar Python dan Persiapan Awal](https://www.petanikode.com/python-linux/)\n",
    "- []()\n",
    "- []()\n"
   ]
  }
 ],
 "metadata": {
  "colab": {
   "name": "Pengenalan Google Colab.ipynb",
   "provenance": []
  },
  "kernelspec": {
   "display_name": "Python 3 (ipykernel)",
   "language": "python",
   "name": "python3"
  },
  "language_info": {
   "codemirror_mode": {
    "name": "ipython",
    "version": 3
   },
   "file_extension": ".py",
   "mimetype": "text/x-python",
   "name": "python",
   "nbconvert_exporter": "python",
   "pygments_lexer": "ipython3",
   "version": "3.8.10"
  }
 },
 "nbformat": 4,
 "nbformat_minor": 1
}
